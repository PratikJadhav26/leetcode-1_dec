{
 "cells": [
  {
   "cell_type": "markdown",
   "id": "55bb5860",
   "metadata": {},
   "source": [
    "## 1 . Given two string arrays word1 and word2, return true if the two arrays represent the same string, and false otherwise."
   ]
  },
  {
   "cell_type": "code",
   "execution_count": 38,
   "id": "c9280881",
   "metadata": {},
   "outputs": [
    {
     "data": {
      "text/plain": [
       "True"
      ]
     },
     "execution_count": 38,
     "metadata": {},
     "output_type": "execute_result"
    }
   ],
   "source": [
    "class Solution:\n",
    "    def array_strings_are_equal(self, word1: list['ab','c'], word2: list['a','bc']) -> bool:\n",
    "        self.word1=word1\n",
    "        self.word2=word2\n",
    "        return \"\".join(word1) == \"\".join(word2)\n",
    "c1=Solution()\n",
    "c1.array_strings_are_equal(['ab','c'],['a','bc'])"
   ]
  },
  {
   "cell_type": "markdown",
   "id": "bee85a58",
   "metadata": {},
   "source": [
    "## 2. Given an integer x, return true if x is a palindrome,and false otherwise."
   ]
  },
  {
   "cell_type": "code",
   "execution_count": 16,
   "id": "23593806",
   "metadata": {},
   "outputs": [
    {
     "data": {
      "text/plain": [
       "True"
      ]
     },
     "execution_count": 16,
     "metadata": {},
     "output_type": "execute_result"
    }
   ],
   "source": [
    "class Solution:\n",
    "    def is_palindrome(self, x: int = 141) -> bool:\n",
    "        \n",
    "        num_str = str(x)                       ## Convert the number to a string\n",
    "        return num_str==num_str[::-1]\n",
    "       \n",
    "a=Solution()\n",
    "a.is_palindrome()"
   ]
  },
  {
   "cell_type": "code",
   "execution_count": 18,
   "id": "58afafd3",
   "metadata": {},
   "outputs": [
    {
     "data": {
      "text/plain": [
       "False"
      ]
     },
     "execution_count": 18,
     "metadata": {},
     "output_type": "execute_result"
    }
   ],
   "source": [
    "class Solution:\n",
    "    def is_palindrome(self, x: int= 133) -> bool:\n",
    "        \n",
    "        num_str = str(x)                       ## Convert the number to a string\n",
    "        return num_str==num_str[::-1]\n",
    "       \n",
    "a=Solution()\n",
    "a.is_palindrome()"
   ]
  },
  {
   "cell_type": "markdown",
   "id": "80970190",
   "metadata": {},
   "source": [
    "## 3. Given an integer array nums sorted in non-decreasing order, remove the duplicates in-place such that each unique element appears only once. The relative order of the elements should be kept the same. Then return the number of unique elements in nums."
   ]
  },
  {
   "cell_type": "code",
   "execution_count": 41,
   "id": "21fc22a9",
   "metadata": {},
   "outputs": [
    {
     "name": "stdout",
     "output_type": "stream",
     "text": [
      "7\n",
      "[1, 2, 3, 4, 5, 6, 8]\n"
     ]
    }
   ],
   "source": [
    "def remove_duplicates(nums):\n",
    "    if not nums:\n",
    "        return 0\n",
    "    unique_count=1\n",
    "    \n",
    "    for i in range(1,len(nums)):\n",
    "       # print(i)\n",
    "        if nums[i]!=nums[i-1]:\n",
    "            nums[unique_count]=nums[i]\n",
    "            unique_count+=1\n",
    "    return (unique_count)\n",
    "\n",
    "nums=[1,2,3,3,4,5,6,6,8]\n",
    "res=remove_duplicates(nums)\n",
    "print(res)\n",
    "print(nums[:res])"
   ]
  },
  {
   "cell_type": "code",
   "execution_count": null,
   "id": "90e2100f",
   "metadata": {},
   "outputs": [],
   "source": []
  }
 ],
 "metadata": {
  "kernelspec": {
   "display_name": "Python 3 (ipykernel)",
   "language": "python",
   "name": "python3"
  },
  "language_info": {
   "codemirror_mode": {
    "name": "ipython",
    "version": 3
   },
   "file_extension": ".py",
   "mimetype": "text/x-python",
   "name": "python",
   "nbconvert_exporter": "python",
   "pygments_lexer": "ipython3",
   "version": "3.9.12"
  }
 },
 "nbformat": 4,
 "nbformat_minor": 5
}
