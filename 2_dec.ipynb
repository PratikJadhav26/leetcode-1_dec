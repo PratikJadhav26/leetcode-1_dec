{
 "cells": [
  {
   "cell_type": "markdown",
   "id": "67f4939e",
   "metadata": {},
   "source": [
    "### You are given the heads of two sorted linked lists list1 and list2.Merge the two lists into one sorted list. The listshouldbe made by splicing together the nodes of the first two lists.Return the head of the merged linked list."
   ]
  },
  {
   "cell_type": "code",
   "execution_count": 82,
   "id": "93546fab",
   "metadata": {},
   "outputs": [
    {
     "name": "stdout",
     "output_type": "stream",
     "text": [
      "0\n",
      "1\n",
      "2\n"
     ]
    },
    {
     "ename": "AttributeError",
     "evalue": "'list' object has no attribute 'val'",
     "output_type": "error",
     "traceback": [
      "\u001b[1;31m---------------------------------------------------------------------------\u001b[0m",
      "\u001b[1;31mAttributeError\u001b[0m                            Traceback (most recent call last)",
      "Input \u001b[1;32mIn [82]\u001b[0m, in \u001b[0;36m<cell line: 37>\u001b[1;34m()\u001b[0m\n\u001b[0;32m     33\u001b[0m \u001b[38;5;28;01mfor\u001b[39;00m i \u001b[38;5;129;01min\u001b[39;00m \u001b[38;5;28mrange\u001b[39m(\u001b[38;5;28mlen\u001b[39m(nodes)):\n\u001b[0;32m     34\u001b[0m     \u001b[38;5;66;03m#nodes.next=nodes[i+1]\u001b[39;00m\n\u001b[0;32m     35\u001b[0m     \u001b[38;5;28mprint\u001b[39m(i)\n\u001b[1;32m---> 37\u001b[0m a\u001b[38;5;241m=\u001b[39mlistnode(\u001b[43mmerge_two_list\u001b[49m\u001b[43m(\u001b[49m\u001b[43mlist1\u001b[49m\u001b[43m,\u001b[49m\u001b[43mlist2\u001b[49m\u001b[43m)\u001b[49m)\n\u001b[0;32m     38\u001b[0m \u001b[38;5;28mprint\u001b[39m(a)\n",
      "Input \u001b[1;32mIn [82]\u001b[0m, in \u001b[0;36mmerge_two_list\u001b[1;34m(list1, list2)\u001b[0m\n\u001b[0;32m      8\u001b[0m curr\u001b[38;5;241m=\u001b[39mdummy\n\u001b[0;32m     10\u001b[0m \u001b[38;5;28;01mwhile\u001b[39;00m list1 \u001b[38;5;129;01mis\u001b[39;00m \u001b[38;5;129;01mnot\u001b[39;00m \u001b[38;5;28;01mNone\u001b[39;00m \u001b[38;5;129;01mand\u001b[39;00m list2 \u001b[38;5;129;01mis\u001b[39;00m \u001b[38;5;129;01mnot\u001b[39;00m \u001b[38;5;28;01mNone\u001b[39;00m:\n\u001b[1;32m---> 12\u001b[0m     \u001b[38;5;28;01mif\u001b[39;00m \u001b[43mlist1\u001b[49m\u001b[38;5;241;43m.\u001b[39;49m\u001b[43mval\u001b[49m \u001b[38;5;241m<\u001b[39m list2\u001b[38;5;241m.\u001b[39mval:\n\u001b[0;32m     14\u001b[0m         curr\u001b[38;5;241m.\u001b[39mnext \u001b[38;5;241m=\u001b[39m list1\n\u001b[0;32m     15\u001b[0m         list1 \u001b[38;5;241m=\u001b[39m list1\u001b[38;5;241m.\u001b[39mnext\n",
      "\u001b[1;31mAttributeError\u001b[0m: 'list' object has no attribute 'val'"
     ]
    }
   ],
   "source": [
    "class listnode():\n",
    "    def __init__(self, val=0, next=None):\n",
    "        \n",
    "        self.val=val\n",
    "        self.next=next\n",
    "def merge_two_list(list1,list2):\n",
    "    dummy=listnode()\n",
    "    curr=dummy\n",
    "    \n",
    "    while list1 is not None and list2 is not None:\n",
    "        \n",
    "        if list1.val < list2.val:\n",
    "            \n",
    "            curr.next = list1\n",
    "            list1 = list1.next\n",
    "        else:\n",
    "            curr.next = list2\n",
    "            list2 = list2.next\n",
    "\n",
    "        curr = curr.next\n",
    "    \n",
    "    if list1 is not None:\n",
    "        \n",
    "        curr.next = list1\n",
    "    elif list2 is not None:\n",
    "        curr.next = list2\n",
    "\n",
    "    return dummy.next\n",
    "\n",
    "list1=[10,12,14]\n",
    "list2=[10,13,14]\n",
    "nodes=[listnode(val=i) for i in list1 and list2]\n",
    "for i in range(len(nodes)):\n",
    "    #nodes.next=nodes[i+1]\n",
    "    print(i)\n",
    "    \n",
    "a=listnode(merge_two_list(list1,list2))\n",
    "print(a)\n"
   ]
  },
  {
   "cell_type": "markdown",
   "id": "f64273db",
   "metadata": {},
   "source": [
    "## Given an integer array nums and an integer val, remove all occurrences of val in nums in-place. The order of the elements may be changed. Then return the number of elements in nums which are not equal to val."
   ]
  },
  {
   "cell_type": "code",
   "execution_count": 31,
   "id": "7f5b88a8",
   "metadata": {},
   "outputs": [
    {
     "name": "stdout",
     "output_type": "stream",
     "text": [
      "remaining list [1, 2, 3, 4, 5]\n"
     ]
    }
   ],
   "source": [
    "list1=[1,2,2,3,4,5]\n",
    "for i in list1:\n",
    "    if i==2:\n",
    "        list1.remove(i)\n",
    "    else:\n",
    "        list1\n",
    "print('remaining list',list1)\n",
    "        "
   ]
  },
  {
   "cell_type": "markdown",
   "id": "71ccf231",
   "metadata": {},
   "source": [
    "## Given two strings needle and haystack, return the index of the first occurrence of needle in haystack, or -1 if needle is not part of haystack."
   ]
  },
  {
   "cell_type": "code",
   "execution_count": 105,
   "id": "674460bd",
   "metadata": {},
   "outputs": [
    {
     "name": "stdout",
     "output_type": "stream",
     "text": [
      "0\n"
     ]
    }
   ],
   "source": [
    "def strStr(haystack, needle):\n",
    "    for i in haystack:\n",
    "        if needle in haystack:\n",
    "            \n",
    "        \n",
    "             index = haystack.index(needle)\n",
    "             return index\n",
    "        else:\n",
    "            return(-1)\n",
    "   \n",
    " \n",
    "haystack = \"sadbutsad\"\n",
    "needle = \"sad\"\n",
    "result = strStr(haystack, needle)\n",
    "print(result)\n",
    "        "
   ]
  },
  {
   "cell_type": "code",
   "execution_count": 108,
   "id": "a51c2a13",
   "metadata": {},
   "outputs": [
    {
     "name": "stdout",
     "output_type": "stream",
     "text": [
      "-1\n"
     ]
    }
   ],
   "source": [
    "def strStr(haystack, needle):\n",
    "    for i in haystack:\n",
    "        if needle in haystack:\n",
    "            \n",
    "        \n",
    "             index = haystack.index(needle)\n",
    "             return index\n",
    "        else:\n",
    "            return(-1)\n",
    "   \n",
    " \n",
    "haystack = \"leetcode\"\n",
    "needle = \"leeto\"\n",
    "result = strStr(haystack, needle)\n",
    "print(result)\n",
    "        "
   ]
  },
  {
   "cell_type": "code",
   "execution_count": null,
   "id": "3f342fac",
   "metadata": {},
   "outputs": [],
   "source": []
  },
  {
   "cell_type": "code",
   "execution_count": null,
   "id": "201641a1",
   "metadata": {},
   "outputs": [],
   "source": []
  }
 ],
 "metadata": {
  "kernelspec": {
   "display_name": "Python 3 (ipykernel)",
   "language": "python",
   "name": "python3"
  },
  "language_info": {
   "codemirror_mode": {
    "name": "ipython",
    "version": 3
   },
   "file_extension": ".py",
   "mimetype": "text/x-python",
   "name": "python",
   "nbconvert_exporter": "python",
   "pygments_lexer": "ipython3",
   "version": "3.9.12"
  }
 },
 "nbformat": 4,
 "nbformat_minor": 5
}
